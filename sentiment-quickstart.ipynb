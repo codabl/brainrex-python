{
 "cells": [
  {
   "cell_type": "code",
   "execution_count": 6,
   "metadata": {},
   "outputs": [
    {
     "name": "stdout",
     "output_type": "stream",
     "text": [
      "'0.08454512209485064'\n"
     ]
    }
   ],
   "source": [
    "### Making your first call quickstart \n",
    "from __future__ import print_function\n",
    "import time\n",
    "import brainrex\n",
    "from brainrex.rest import ApiException\n",
    "from pprint import pprint\n",
    "\n",
    "# Configure API key authorization: APIKeyHeader\n",
    "configuration = brainrex.Configuration()\n",
    "    configuration.api_key['x-api-key'] = 'nHUAuQinEm2XqJoja8oGp1gfVQclI1vk5V7Wul98'\n",
    "# Uncomment below to setup prefix (e.g. Bearer) for API key, if needed\n",
    "# configuration.api_key_prefix['x-api-key'] = 'Bearer'\n",
    "\n",
    "# create an instance of the API class\n",
    "api_instance = brainrex.LanguageApi(brainrex.ApiClient(configuration))\n",
    "text = brainrex.Text4(\"bitcoin is the best\") # Text4 | String of text to be analyze for investor sentiment.\n",
    "\n",
    "try:\n",
    "    # Sentiment analysis score using a model trained for buy signals.\n",
    "    api_response = api_instance.language_get_price_sentiment(text)\n",
    "    pprint(api_response)\n",
    "except ApiException as e:\n",
    "    print(\"Exception when calling LanguageApi->language_get_price_sentiment: %s\\n\" % e)\n"
   ]
  },
  {
   "cell_type": "code",
   "execution_count": 8,
   "metadata": {},
   "outputs": [
    {
     "name": "stdout",
     "output_type": "stream",
     "text": [
      "'1.0'\n"
     ]
    }
   ],
   "source": [
    "try:\n",
    "    # Sentiment analysis score using a model trained for buy signals.\n",
    "    api_response = api_instance.language_get_general_sentiment(text)\n",
    "    pprint(api_response)\n",
    "except ApiException as e:\n",
    "    print(\"Exception when calling LanguageApi->language_get_price_sentiment: %s\\n\" % e)"
   ]
  },
  {
   "cell_type": "code",
   "execution_count": null,
   "metadata": {},
   "outputs": [],
   "source": []
  }
 ],
 "metadata": {
  "kernelspec": {
   "display_name": "Python 3",
   "language": "python",
   "name": "python3"
  },
  "language_info": {
   "codemirror_mode": {
    "name": "ipython",
    "version": 3
   },
   "file_extension": ".py",
   "mimetype": "text/x-python",
   "name": "python",
   "nbconvert_exporter": "python",
   "pygments_lexer": "ipython3",
   "version": "3.6.9"
  }
 },
 "nbformat": 4,
 "nbformat_minor": 4
}
